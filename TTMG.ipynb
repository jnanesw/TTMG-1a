{
 "cells": [
  {
   "cell_type": "code",
   "execution_count": 1,
   "id": "2c993726",
   "metadata": {},
   "outputs": [],
   "source": [
    "from selenium.webdriver import Chrome\n",
    "from selenium.webdriver.common.by import By"
   ]
  },
  {
   "cell_type": "code",
   "execution_count": 2,
   "id": "2862d052",
   "metadata": {},
   "outputs": [
    {
     "name": "stdout",
     "output_type": "stream",
     "text": [
      "geometry\n",
      "https://www.google.com/search?q=geometry\n"
     ]
    }
   ],
   "source": [
    "url = \"https://www.google.com/search?q=\"\n",
    "n = input()\n",
    "url=url+n\n",
    "print(url)"
   ]
  },
  {
   "cell_type": "code",
   "execution_count": 3,
   "id": "f3d6072f",
   "metadata": {},
   "outputs": [
    {
     "name": "stderr",
     "output_type": "stream",
     "text": [
      "C:\\Users\\nanim\\AppData\\Local\\Temp\\ipykernel_26636\\735904702.py:1: DeprecationWarning: executable_path has been deprecated, please pass in a Service object\n",
      "  driver=Chrome(executable_path=\"C:\\WebDrivers\\chromedriver.exe\")\n"
     ]
    }
   ],
   "source": [
    "driver=Chrome(executable_path=\"C:\\WebDrivers\\chromedriver.exe\")\n",
    "driver.get(url)\n",
    "driver.implicitly_wait(10)"
   ]
  },
  {
   "cell_type": "code",
   "execution_count": null,
   "id": "97800ce5",
   "metadata": {},
   "outputs": [],
   "source": []
  },
  {
   "cell_type": "code",
   "execution_count": null,
   "id": "e1ce103c",
   "metadata": {},
   "outputs": [],
   "source": []
  }
 ],
 "metadata": {
  "kernelspec": {
   "display_name": "Python 3 (ipykernel)",
   "language": "python",
   "name": "python3"
  },
  "language_info": {
   "codemirror_mode": {
    "name": "ipython",
    "version": 3
   },
   "file_extension": ".py",
   "mimetype": "text/x-python",
   "name": "python",
   "nbconvert_exporter": "python",
   "pygments_lexer": "ipython3",
   "version": "3.9.12"
  }
 },
 "nbformat": 4,
 "nbformat_minor": 5
}
